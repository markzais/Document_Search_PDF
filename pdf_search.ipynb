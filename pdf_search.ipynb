{
 "cells": [
  {
   "cell_type": "markdown",
   "id": "f2ecd6ba",
   "metadata": {},
   "source": [
    "## PDF Search of Keywords"
   ]
  },
  {
   "cell_type": "markdown",
   "id": "276d7ae6",
   "metadata": {},
   "source": [
    "**Set Up**"
   ]
  },
  {
   "cell_type": "markdown",
   "id": "9f5e2ad6",
   "metadata": {},
   "source": [
    "Install libraries as needed."
   ]
  },
  {
   "cell_type": "code",
   "execution_count": null,
   "id": "9ad7374d",
   "metadata": {},
   "outputs": [],
   "source": [
    "#!pip install pdfplumber\n",
    "#!pip install nltk"
   ]
  },
  {
   "cell_type": "markdown",
   "id": "c0a85c8e",
   "metadata": {},
   "source": [
    "Import and dowload libraries"
   ]
  },
  {
   "cell_type": "code",
   "execution_count": 1,
   "id": "13c0eac5",
   "metadata": {},
   "outputs": [
    {
     "name": "stderr",
     "output_type": "stream",
     "text": [
      "[nltk_data] Downloading package punkt to\n",
      "[nltk_data]     C:\\Users\\mark.zais\\AppData\\Roaming\\nltk_data...\n",
      "[nltk_data]   Package punkt is already up-to-date!\n"
     ]
    },
    {
     "data": {
      "text/plain": [
       "True"
      ]
     },
     "execution_count": 1,
     "metadata": {},
     "output_type": "execute_result"
    }
   ],
   "source": [
    "import pdfplumber\n",
    "import os\n",
    "import re\n",
    "import csv\n",
    "import nltk\n",
    "nltk.download('punkt')"
   ]
  },
  {
   "cell_type": "markdown",
   "id": "9c501fba",
   "metadata": {},
   "source": [
    "**PDF Text Search**"
   ]
  },
  {
   "cell_type": "markdown",
   "id": "d08c3516",
   "metadata": {},
   "source": [
    "Define a function to extract text from PDF with page numbers"
   ]
  },
  {
   "cell_type": "code",
   "execution_count": 2,
   "id": "de671680",
   "metadata": {},
   "outputs": [],
   "source": [
    "def extract_text_from_pdf_with_pages(pdf_path):\n",
    "    data = []\n",
    "    with pdfplumber.open(pdf_path) as pdf:\n",
    "        for page_num, page in enumerate(pdf.pages, start=1):\n",
    "            text = page.extract_text()\n",
    "            if text:\n",
    "                data.append((page_num, text))\n",
    "    return data"
   ]
  },
  {
   "cell_type": "markdown",
   "id": "21dfc718",
   "metadata": {},
   "source": [
    "Define a function to search for sentences with both keywords"
   ]
  },
  {
   "cell_type": "code",
   "execution_count": 3,
   "id": "e8d015d0",
   "metadata": {},
   "outputs": [],
   "source": [
    "from nltk.tokenize import sent_tokenize\n",
    "\n",
    "def search_sentences_with_both_keywords(data, keywords):\n",
    "    if len(keywords) != 2:\n",
    "        raise ValueError(\"This function is designed for exactly two keywords.\")\n",
    "    \n",
    "    results = []\n",
    "    keyword1, keyword2 = keywords\n",
    "    pattern1 = re.compile(re.escape(keyword1), re.IGNORECASE)\n",
    "    pattern2 = re.compile(re.escape(keyword2), re.IGNORECASE)\n",
    "\n",
    "    for page_num, text in data:\n",
    "        sentences = sent_tokenize(text)\n",
    "        for sentence in sentences:\n",
    "            if pattern1.search(sentence) and pattern2.search(sentence):\n",
    "                results.append((page_num, sentence.strip()))\n",
    "    \n",
    "    return results"
   ]
  },
  {
   "cell_type": "markdown",
   "id": "fbf6f7a9",
   "metadata": {},
   "source": [
    "Define a functon to write results to CSV"
   ]
  },
  {
   "cell_type": "code",
   "execution_count": 4,
   "id": "3f442d93",
   "metadata": {},
   "outputs": [],
   "source": [
    "def write_results_to_csv(results, output_csv):\n",
    "    with open(output_csv, mode='w', newline='', encoding='utf-8') as file:\n",
    "        writer = csv.writer(file)\n",
    "        writer.writerow(['Document', 'Page Number', 'Sentence'])\n",
    "        for result in results:\n",
    "            writer.writerow(result)"
   ]
  },
  {
   "cell_type": "markdown",
   "id": "cac275a6",
   "metadata": {},
   "source": [
    "Set folder path"
   ]
  },
  {
   "cell_type": "code",
   "execution_count": 5,
   "id": "5b027492",
   "metadata": {},
   "outputs": [],
   "source": [
    "folder_path = 'C:\\\\Users\\\\mark.zais\\\\OneDrive - Integration Innovation\\BD Data Capture Opportunities\\\\AIMSS\\\\Bidders Library\\\\bidders_library_pdfs'"
   ]
  },
  {
   "cell_type": "markdown",
   "id": "4a8f44cd",
   "metadata": {},
   "source": [
    "Pick key words"
   ]
  },
  {
   "cell_type": "code",
   "execution_count": 6,
   "id": "fd57d3c5",
   "metadata": {},
   "outputs": [],
   "source": [
    "keywords = ['data', 'governance']"
   ]
  },
  {
   "cell_type": "markdown",
   "id": "d64f020b",
   "metadata": {},
   "source": [
    "Name the CSV output file"
   ]
  },
  {
   "cell_type": "code",
   "execution_count": 7,
   "id": "f6885773",
   "metadata": {},
   "outputs": [],
   "source": [
    "output_csv = 'search_results.csv'"
   ]
  },
  {
   "cell_type": "markdown",
   "id": "68fbe861",
   "metadata": {},
   "source": [
    "Loop through PDFs and search for sentences with both keywords.\n",
    "Export result to a CSV file."
   ]
  },
  {
   "cell_type": "code",
   "execution_count": 8,
   "id": "93be9935",
   "metadata": {},
   "outputs": [
    {
     "name": "stdout",
     "output_type": "stream",
     "text": [
      "Processing: 206_Continuous_Developmental_Integration_Working_Group_Charter__Certified_Current_Feb_7__2023_.pdf\n",
      "Processing: Accountability_and_Management_of_MDA_Equipment_and_Other_Accountable_Property_Manual.pdf\n",
      "Processing: BMDS_Ground_Test_Concept_of_Operations.pdf\n",
      "Processing: Common_Test_Nomenclature.pdf\n",
      "Processing: Cyberspace_Workforce_Management_Program.pdf\n",
      "Processing: Data_Program_Strategy_Implementation.pdf\n",
      "Processing: DD_254__HQ0857_23_R_0001__AIMSS_Signed.pdf\n",
      "Processing: DT_101_BMDS_Cybersecurity_Test_StrategyDS.pdf\n",
      "Processing: DT_102_BMDS_Cybersecurity_Test_CONOPS.pdf\n",
      "Processing: DX_DeSimone_Signed_DGB_Charter_MDA_220923_MWCK.pdf\n",
      "Processing: Engineering_Technical_Review_Process.pdf\n",
      "Processing: Flight_Test_Failure_Response_Process.pdf\n",
      "Processing: Guide_DataProducer_1.pdf\n",
      "Processing: ICJ_Memo_028_ACAS_Exclusion_Exemption_and_Deviation_07Dec2022.pdf\n",
      "Processing: ICJ_Memo_029_ESS_Baselines_19Jan2023.pdf\n",
      "Processing: ICN_Emergency_Use_Passowrd_Policy__signed_.pdf\n",
      "Processing: ICN_SOP_VB3_Lab_SOP_July_22__Signed_CUI.pdf\n",
      "Processing: IMTP_v24_1_Smart_Book_20230316_FINAL.pdf\n",
      "Processing: MDA_AbilityOne_Strategic_Plan_for_FY23.pdf\n",
      "Processing: MDA_D_3200_06__Signed__Missile_Defense_Test_Data_Information_Management.pdf\n",
      "Processing: MDA_Instruction_8320_04_INS.pdf\n",
      "Processing: MDA_QS_001_MAP_Rev_C.pdf\n",
      "Processing: MDDC_LibraryControlCenter.pdf\n",
      "Processing: Missile_DefenseTest_Data_Information_Management.pdf\n",
      "Processing: Missile_Defense_System_Flight_Test_Concept_of_Operations.pdf\n",
      "Processing: Missile_Defense_System_Joint_Engineering_and_Test_Integrated_Master_Test_Plan_Development.pdf\n",
      "Processing: Missile_Defense_System_Test_Program.pdf\n",
      "Processing: Missile_Defense_System__MDS__SCG__Change_2__29_NOV_2022.pdf\n",
      "Processing: Missile_Defense_Test_Data_Archiving.pdf\n",
      "Processing: Software_Assurance_Requirements.pdf\n",
      "Processing: Software_Engineering.pdf\n",
      "Processing: TDAN_Emergency_Use_Passowrd_Policy_unsigned.pdf\n",
      "Processing: TDAN_Privileged_User_Agreement__v9__BLANK.pdf\n",
      "Processing: _ACAS_SOP_signed.pdf\n",
      "Processing: _Ad_Hoc_Process_Rev__1_06.pdf\n",
      "Processing: _ASPERA_Mobile_Data_Center_Rev__1.pdf\n",
      "Processing: _Audit_Management_SOP_2021___signed.pdf\n",
      "Processing: _BarCode_Scanner_SOP.pdf\n",
      "Processing: _CDI_22_017__BST4__11_May__Architecture.pdf\n",
      "Processing: _Classified_Processing_Rev__1_14.pdf\n",
      "Processing: _CUI_Work_Instruction_Rev__1_1.pdf\n",
      "Processing: _CYBER20_TH_CVPA_08a__N_I__Final_IDMP.pdf\n",
      "Processing: _DataRequestor_APR2022.pdf\n",
      "Processing: _Data_At_Rest_Rev__1_2.pdf\n",
      "Processing: _Data_Transfer_Across_Security_Domains_SOP__Apr_2022__signed.pdf\n",
      "Processing: _DCP_Registration_D2_6_1_20230623.pdf\n",
      "Processing: _DCP_Script_Design_and_Implementation.pdf\n",
      "Processing: _Declassification_Process_Rev__1_06.pdf\n",
      "Processing: _Destruction_Process_Rev__1_06.pdf\n",
      "Processing: _DiDs_parser_WI_r5_docx.pdf\n",
      "Processing: _DMS_WI_V8_2_June_2023.pdf\n",
      "Processing: _Encryption_Process_for_Physical_Media_Rev__1_2.pdf\n",
      "Processing: _Exporting_and_Importing_Passwords_Rev__1_1.pdf\n",
      "Processing: _File_Ingestion_Exceptions_Rev__1_2.pdf\n",
      "Processing: _FTG_12_VSFB_Launch_Operation_Requiremetns_Final_Signed_230828.pdf\n",
      "Processing: _FTT_21_Final_DHP.pdf\n",
      "Processing: _FTT_21_Final_IDMP.pdf\n",
      "Processing: _GTI_08a__N_I__Final_IDMP.pdf\n",
      "Processing: _HD_With_Multiple_Products_Rev__1_2.pdf\n",
      "Processing: _ICNL_UTDAN_CTDAN_Administrator_Role_Authorization_Roster__Dec_2021_.pdf\n",
      "Processing: _ICN_CM_Plan_20210109___signed.pdf\n",
      "Processing: _ICN_CM_Plan_20220831.pdf\n",
      "Processing: _ICN_Incident_Response_Plan.pdf\n",
      "Processing: _ICN_Software_Development_Policy.pdf\n",
      "Processing: _Inventory_Check_In_and_Audit_Instructions_Rev_1_1.pdf\n",
      "Processing: _Legacy_Processing_Rev__1_05.pdf\n",
      "Processing: _MDA_DCP_User_Support_SOP_Rev__2_1.pdf\n",
      "Processing: _MDA_IT_Strategy___20220907.pdf\n",
      "Processing: _MDDC_H_Physical__Environmental_Plan__v2r5____signed.pdf\n",
      "Processing: _MDSTestScheduleStatus_Brief_20230601V1.pdf\n",
      "Processing: _RD_CNWDI_Confidential_Processing_Rev__1_11.pdf\n",
      "Processing: _TDAN_Account_Management_SOP__signed_.pdf\n",
      "Processing: _TDAN_Account_Management_SOP___signed.pdf\n",
      "Processing: _TDAN_Backup_Plan_unsigned.pdf\n",
      "Processing: _TDAN_COMSEC_SOP.pdf\n",
      "Processing: _TDAN_Continuous_Monitoring_Plan.pdf\n",
      "Processing: _TDAN_Continuous_Monitoring_Plan_v2.pdf\n",
      "Processing: _TDAN_Continuous_Monitoring_Plan_v3.pdf\n",
      "Processing: _TDAN_Data_Access_SOP___signed.pdf\n",
      "Processing: _TDAN_Data_Handling_SOP.pdf\n",
      "Processing: _TDAN_Data_Handling_SOP___signed.pdf\n",
      "Processing: _TDAN_Enclave_CONOPS_v6r1___signed.pdf\n",
      "Processing: _TDAN_Enclave_CONOPS_v6r2_signed.pdf\n",
      "Processing: _TDAN_Enclave_CONOPS_v6r3.pdf\n",
      "Processing: _TDAN_Enclave_IT_Contingency_Plan__v5r1_.pdf\n",
      "Processing: _TDAN_LEMAS_SOP.pdf\n",
      "Processing: _TDAN_LINUX_SOP___signed.pdf\n",
      "Processing: _TDAN_Network_Devices_SOP__APR_2022__signed.pdf\n",
      "Processing: _TDAN_Network_Devices_SOP__signed.pdf\n",
      "Processing: _TDAN_Notification_and_Alerting_SOP___signed.pdf\n",
      "Processing: _TDAN_Patch_Management_SOP___signed.pdf\n",
      "Processing: _TDAN_Removable_Media_Policy__v3_.pdf\n",
      "Processing: _TDAN_Removable_Media_SOP__v3r1_.pdf\n",
      "Processing: _TDAN_REMOVABLE_MEDIA_SOP___signed.pdf\n",
      "Processing: _TDAN_Share_Clean_up_Process_Rev__1_4.pdf\n",
      "Processing: _TDAN_Source_Code_Transfer_SOP___signed.pdf\n",
      "Processing: _TDAN_Spill_Recovery_SOP__Apr_2022__signed.pdf\n",
      "Processing: _TDAN_Windows_Server_SOP__Apr_2022__signed.pdf\n",
      "Processing: _TDAN_Workstation_SOP___signed.pdf\n",
      "Processing: _TRD_CONOPS.pdf\n",
      "Processing: _TRMP_T_Overview.pdf\n",
      "Processing: _Unclassified_Processing_Rev__1_09.pdf\n",
      "Processing: __ASTER_CONOPS.pdf\n",
      "Processing: __DMS_CONOPS.pdf\n",
      "Processing: __MDDC_Engineering_Handbook_7_0_1_Draft.pdf\n",
      "Processing: __RMST_CONOPS.pdf\n",
      "Processing: __RMST_User_s_Manual.pdf\n",
      "Processing: __SALT_CONOPS.pdf\n",
      "Processing: __Script_Design_and_Implementation_BNSIM.pdf\n",
      "Processing: __Script_Design_and_Implementation_ISTC.pdf\n",
      "Processing: __TDAN_LINUX_SOP___signed.pdf\n",
      "Processing: __TDAN_Windows_Server_SOP__Apr_2022__signed.pdf\n",
      "Processing: __TMS_CONOPS.pdf\n",
      "Processing: __TREAD_CONOPS.pdf\n",
      "Results have been exported to search_results.csv\n"
     ]
    }
   ],
   "source": [
    "all_results = []\n",
    "\n",
    "for filename in os.listdir(folder_path):\n",
    "    if filename.endswith('.pdf'):\n",
    "        pdf_path = os.path.join(folder_path, filename)\n",
    "        print(f\"Processing: {filename}\")\n",
    "        try:\n",
    "            data = extract_text_from_pdf_with_pages(pdf_path)\n",
    "            results = search_sentences_with_both_keywords(data, keywords)\n",
    "            for page_num, sentence in results:\n",
    "                all_results.append((filename, page_num, sentence))\n",
    "        except Exception as e:\n",
    "            print(f\"Error processing {filename}: {e}\\n\")\n",
    "\n",
    "write_results_to_csv(all_results, output_csv)\n",
    "print(f\"Results have been exported to {output_csv}\")"
   ]
  },
  {
   "cell_type": "code",
   "execution_count": null,
   "id": "6f12ca60",
   "metadata": {},
   "outputs": [],
   "source": []
  }
 ],
 "metadata": {
  "kernelspec": {
   "display_name": "Python 3 (ipykernel)",
   "language": "python",
   "name": "python3"
  },
  "language_info": {
   "codemirror_mode": {
    "name": "ipython",
    "version": 3
   },
   "file_extension": ".py",
   "mimetype": "text/x-python",
   "name": "python",
   "nbconvert_exporter": "python",
   "pygments_lexer": "ipython3",
   "version": "3.9.13"
  }
 },
 "nbformat": 4,
 "nbformat_minor": 5
}
